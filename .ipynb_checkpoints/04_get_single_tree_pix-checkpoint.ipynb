{
 "cells": [
  {
   "cell_type": "code",
   "execution_count": 28,
   "id": "9ee19eec",
   "metadata": {},
   "outputs": [],
   "source": [
    "## load dependencies\n",
    "import pandas as pd\n",
    "import geopandas as gpd\n",
    "import requests\n",
    "from PIL import Image, ImageDraw\n",
    "from io import BytesIO"
   ]
  },
  {
   "cell_type": "code",
   "execution_count": 2,
   "id": "acf7c86e",
   "metadata": {},
   "outputs": [],
   "source": [
    "## load data\n",
    "df = pd.read_csv('../data/campustreedata.csv')\n",
    "\n",
    "#remove trees with 0 lat or lon (indicating no location is recorded)\n",
    "df = df[(df.LAT)!=0]\n",
    "df = df[(df.LONG)!=0]\n",
    "\n",
    "#load map zone data (this was manually created by me)\n",
    "zone_gdf = gpd.read_file('../shapefiles/map.geojson')\n",
    "zone_gdf = zone_gdf.to_crs(\"EPSG:4326\")"
   ]
  },
  {
   "cell_type": "code",
   "execution_count": 45,
   "id": "b7773603",
   "metadata": {},
   "outputs": [],
   "source": [
    "## Download images of all the trees from ESRI\n",
    "def get_tree_images(df=df, buffer=.0001, limit=None, x_pix_len=64, y_pix_len=64):\n",
    "    count = 0\n",
    "    for i, row in df.iterrows():\n",
    "        FID = str(row['FID'])\n",
    "        x, y = row['LONG'], row['LAT']\n",
    "        minx, maxx = x-buffer, x+buffer\n",
    "        miny, maxy = y-buffer,y+buffer\n",
    "        esri_url = f\"https://services.arcgisonline.com/arcgis/rest/services/World_Imagery/MapServer/export?bbox={minx},{miny},{maxx},{maxy}&bboxSR=4326&imageSR=4326&size={x_pix_len},{y_pix_len}&f=image\"\n",
    "        response = requests.get(esri_url)\n",
    "        filename = '../Tree_Images/FID_' + FID + '.png'\n",
    "        if response.status_code == 200:\n",
    "            img = Image.open(BytesIO(response.content))\n",
    "            img.save(filename)\n",
    "        else:\n",
    "            print(\"Failed to retrieve picure of tree FID \" + FID + \".\")\n",
    "        count += 1\n",
    "        if count % 100 == 0:\n",
    "            print(\"Loaded image\", count, \"of\", len(df), \"...\")\n",
    "        if count == limit:\n",
    "            break\n",
    "    return(img, \"Done!\")"
   ]
  },
  {
   "cell_type": "code",
   "execution_count": 51,
   "id": "8c4de458-7ae9-404a-a077-78d69b877377",
   "metadata": {},
   "outputs": [
    {
     "data": {
      "text/plain": [
       "(<PIL.PngImagePlugin.PngImageFile image mode=P size=80x80>, 'Done!')"
      ]
     },
     "execution_count": 51,
     "metadata": {},
     "output_type": "execute_result"
    }
   ],
   "source": [
    "get_tree_images(df=df[17475:], limit=None, x_pix_len=80, y_pix_len=80)"
   ]
  }
 ],
 "metadata": {
  "kernelspec": {
   "display_name": "Python (tree-env)",
   "language": "python",
   "name": "tree-env"
  },
  "language_info": {
   "codemirror_mode": {
    "name": "ipython",
    "version": 3
   },
   "file_extension": ".py",
   "mimetype": "text/x-python",
   "name": "python",
   "nbconvert_exporter": "python",
   "pygments_lexer": "ipython3",
   "version": "3.9.19"
  }
 },
 "nbformat": 4,
 "nbformat_minor": 5
}
