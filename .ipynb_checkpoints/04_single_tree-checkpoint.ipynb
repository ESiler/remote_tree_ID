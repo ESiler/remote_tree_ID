{
 "cells": [
  {
   "cell_type": "code",
   "execution_count": 1,
   "id": "9ee19eec",
   "metadata": {},
   "outputs": [],
   "source": [
    "## load dependencies\n",
    "\n",
    "import pandas as pd\n",
    "import geopandas as gpd\n"
   ]
  },
  {
   "cell_type": "code",
   "execution_count": 2,
   "id": "acf7c86e",
   "metadata": {},
   "outputs": [],
   "source": [
    "## load data\n",
    "df = pd.read_csv('../data/campustreedata.csv')\n",
    "\n",
    "#remove trees with 0 lat or lon (indicating no location is recorded)\n",
    "df = df[(df.LAT)!=0]\n",
    "df = df[(df.LONG)!=0]\n",
    "\n",
    "#load map zone data (this was manually created by me)\n",
    "zone_gdf = gpd.read_file('../shapefiles/map.geojson')\n",
    "zone_gdf = zone_gdf.to_crs(\"EPSG:4326\")"
   ]
  },
  {
   "cell_type": "code",
   "execution_count": 5,
   "id": "b7773603",
   "metadata": {},
   "outputs": [],
   "source": [
    "## Download images of all the trees from ESRI\n",
    "def get_tree_images(df=df, buffer=.0001):\n",
    "    for i, row in df.iterrows():\n",
    "        x, y = row['LONG'], row['LAT']\n",
    "        x_min, x_max = x, x\n",
    "        y_min, y_max = y,y\n",
    "        #if i > 10:\n",
    "            #break"
   ]
  },
  {
   "cell_type": "code",
   "execution_count": 7,
   "id": "02a71645",
   "metadata": {},
   "outputs": [
    {
     "name": "stdout",
     "output_type": "stream",
     "text": [
      "-84.4811543924 42.7250593456\n",
      "-84.4814558071 42.7251025251\n",
      "-84.4806374859 42.7250847621\n",
      "-84.4806364909 42.7251691807\n",
      "-84.4808575565 42.7251661747\n",
      "-84.4813662508 42.7251676433\n",
      "-84.4815237238 42.7251937839\n",
      "-84.481664639 42.7252160938\n",
      "-84.4818834557 42.7252667011\n",
      "-84.4819918078 42.7252943284\n"
     ]
    }
   ],
   "source": [
    "for i, row in df.head(10).iterrows():\n",
    "    x, y = row['LONG'], row['LAT']\n",
    "    print(x,y)"
   ]
  }
 ],
 "metadata": {
  "kernelspec": {
   "display_name": "tree-env",
   "language": "python",
   "name": "tree-env"
  },
  "language_info": {
   "codemirror_mode": {
    "name": "ipython",
    "version": 3
   },
   "file_extension": ".py",
   "mimetype": "text/x-python",
   "name": "python",
   "nbconvert_exporter": "python",
   "pygments_lexer": "ipython3",
   "version": "3.9.19"
  }
 },
 "nbformat": 4,
 "nbformat_minor": 5
}
