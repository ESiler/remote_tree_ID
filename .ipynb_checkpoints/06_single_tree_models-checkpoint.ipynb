{
 "cells": [
  {
   "cell_type": "code",
   "execution_count": 22,
   "id": "96b1b6fc-9577-45a5-bb19-9855d4480c10",
   "metadata": {},
   "outputs": [],
   "source": [
    "#libs\n",
    "import numpy as np\n",
    "import pandas as pd\n",
    "import random"
   ]
  },
  {
   "cell_type": "code",
   "execution_count": 30,
   "id": "17b85ff5-5a5b-443c-b9a7-c2a25b222305",
   "metadata": {},
   "outputs": [],
   "source": [
    "## load data\n",
    "df = pd.read_csv('../data/trees_data_train.csv', index_col=0)\n",
    "#load pcs\n",
    "tree_pcs = pd.read_csv('../data/single_tree_pcs.csv', header=None)"
   ]
  },
  {
   "cell_type": "code",
   "execution_count": 23,
   "id": "b646890b-0b23-4388-a1cf-ba1421443a90",
   "metadata": {},
   "outputs": [],
   "source": [
    "#get training and validation sets\n",
    "train_zone_list = list(df['Zone_ID'].unique())\n",
    "random.seed(42)\n",
    "val_zones = random.sample(train_zone_list, 4)\n",
    "train_zones = [item for item in train_zone_list if item not in val_zones]"
   ]
  },
  {
   "cell_type": "code",
   "execution_count": 24,
   "id": "a65004ef-3fed-4a6b-8323-ecae6518061e",
   "metadata": {},
   "outputs": [],
   "source": [
    "#get X_train etc\n",
    "X_train, y_train, X_val, y_val = None, None, None, None"
   ]
  },
  {
   "cell_type": "code",
   "execution_count": 33,
   "id": "3f311cee-aeb0-4f04-b031-a0e02fe88a3d",
   "metadata": {},
   "outputs": [
    {
     "data": {
      "text/html": [
       "<div>\n",
       "<style scoped>\n",
       "    .dataframe tbody tr th:only-of-type {\n",
       "        vertical-align: middle;\n",
       "    }\n",
       "\n",
       "    .dataframe tbody tr th {\n",
       "        vertical-align: top;\n",
       "    }\n",
       "\n",
       "    .dataframe thead th {\n",
       "        text-align: right;\n",
       "    }\n",
       "</style>\n",
       "<table border=\"1\" class=\"dataframe\">\n",
       "  <thead>\n",
       "    <tr style=\"text-align: right;\">\n",
       "      <th></th>\n",
       "      <th>0</th>\n",
       "      <th>1</th>\n",
       "      <th>2</th>\n",
       "      <th>3</th>\n",
       "      <th>4</th>\n",
       "      <th>5</th>\n",
       "      <th>6</th>\n",
       "      <th>7</th>\n",
       "      <th>8</th>\n",
       "      <th>9</th>\n",
       "      <th>...</th>\n",
       "      <th>90</th>\n",
       "      <th>91</th>\n",
       "      <th>92</th>\n",
       "      <th>93</th>\n",
       "      <th>94</th>\n",
       "      <th>95</th>\n",
       "      <th>96</th>\n",
       "      <th>97</th>\n",
       "      <th>98</th>\n",
       "      <th>99</th>\n",
       "    </tr>\n",
       "  </thead>\n",
       "  <tbody>\n",
       "    <tr>\n",
       "      <th>8523</th>\n",
       "      <td>6091.977799</td>\n",
       "      <td>-126.221196</td>\n",
       "      <td>-3147.710008</td>\n",
       "      <td>-1764.87814</td>\n",
       "      <td>-779.416543</td>\n",
       "      <td>1306.232704</td>\n",
       "      <td>2345.810226</td>\n",
       "      <td>-967.888039</td>\n",
       "      <td>1105.221945</td>\n",
       "      <td>-551.341228</td>\n",
       "      <td>...</td>\n",
       "      <td>133.749429</td>\n",
       "      <td>159.387046</td>\n",
       "      <td>156.074221</td>\n",
       "      <td>11.096118</td>\n",
       "      <td>151.011335</td>\n",
       "      <td>82.542703</td>\n",
       "      <td>28.944253</td>\n",
       "      <td>111.971379</td>\n",
       "      <td>51.572308</td>\n",
       "      <td>-102.077324</td>\n",
       "    </tr>\n",
       "  </tbody>\n",
       "</table>\n",
       "<p>1 rows × 100 columns</p>\n",
       "</div>"
      ],
      "text/plain": [
       "               0           1            2           3           4   \\\n",
       "8523  6091.977799 -126.221196 -3147.710008 -1764.87814 -779.416543   \n",
       "\n",
       "               5            6           7            8           9   ...  \\\n",
       "8523  1306.232704  2345.810226 -967.888039  1105.221945 -551.341228  ...   \n",
       "\n",
       "              90          91          92         93          94         95  \\\n",
       "8523  133.749429  159.387046  156.074221  11.096118  151.011335  82.542703   \n",
       "\n",
       "             96          97         98          99  \n",
       "8523  28.944253  111.971379  51.572308 -102.077324  \n",
       "\n",
       "[1 rows x 100 columns]"
      ]
     },
     "execution_count": 33,
     "metadata": {},
     "output_type": "execute_result"
    }
   ],
   "source": [
    "tree_pcs.sample()"
   ]
  },
  {
   "cell_type": "code",
   "execution_count": 32,
   "id": "5b45288a-de8e-415c-8246-e1faf85c27a9",
   "metadata": {},
   "outputs": [
    {
     "data": {
      "text/html": [
       "<div>\n",
       "<style scoped>\n",
       "    .dataframe tbody tr th:only-of-type {\n",
       "        vertical-align: middle;\n",
       "    }\n",
       "\n",
       "    .dataframe tbody tr th {\n",
       "        vertical-align: top;\n",
       "    }\n",
       "\n",
       "    .dataframe thead th {\n",
       "        text-align: right;\n",
       "    }\n",
       "</style>\n",
       "<table border=\"1\" class=\"dataframe\">\n",
       "  <thead>\n",
       "    <tr style=\"text-align: right;\">\n",
       "      <th></th>\n",
       "      <th>FID</th>\n",
       "      <th>ACC_NUM_AN</th>\n",
       "      <th>ACC_NUM</th>\n",
       "      <th>ACC_NUM_QU</th>\n",
       "      <th>ACC_NUM__1</th>\n",
       "      <th>NAME_NUM</th>\n",
       "      <th>FAMILY</th>\n",
       "      <th>NAME</th>\n",
       "      <th>NAME_HTML</th>\n",
       "      <th>ALT_SYN_NA</th>\n",
       "      <th>...</th>\n",
       "      <th>SPREAD</th>\n",
       "      <th>SPREAD_UNI</th>\n",
       "      <th>LABEL_HAVE</th>\n",
       "      <th>LABEL_NEED</th>\n",
       "      <th>DEDIC_LABE</th>\n",
       "      <th>GPS_Point</th>\n",
       "      <th>Zone_ID</th>\n",
       "      <th>IN_ZONE</th>\n",
       "      <th>Plot_ID</th>\n",
       "      <th>IN_PLOT</th>\n",
       "    </tr>\n",
       "  </thead>\n",
       "  <tbody>\n",
       "    <tr>\n",
       "      <th>5509</th>\n",
       "      <td>5510</td>\n",
       "      <td>CC8969*01</td>\n",
       "      <td>CC8969</td>\n",
       "      <td>1</td>\n",
       "      <td>CC8969*01</td>\n",
       "      <td>194</td>\n",
       "      <td>Cercidiphyllaceae</td>\n",
       "      <td>Cercidiphyllum japonicum</td>\n",
       "      <td>&lt;I&gt;Cercidiphyllum japonicum&lt;/I&gt;</td>\n",
       "      <td></td>\n",
       "      <td>...</td>\n",
       "      <td></td>\n",
       "      <td></td>\n",
       "      <td></td>\n",
       "      <td></td>\n",
       "      <td></td>\n",
       "      <td>POINT (-84.472342 42.719607)</td>\n",
       "      <td>zone_G</td>\n",
       "      <td>POLYGON ((-84.47791948448484 42.72326911436249...</td>\n",
       "      <td>X31-Y50</td>\n",
       "      <td>&lt;GeometryArray&gt;\\n[&lt;POLYGON ((-84.472 42.72, -8...</td>\n",
       "    </tr>\n",
       "  </tbody>\n",
       "</table>\n",
       "<p>1 rows × 50 columns</p>\n",
       "</div>"
      ],
      "text/plain": [
       "       FID ACC_NUM_AN ACC_NUM  ACC_NUM_QU ACC_NUM__1  NAME_NUM  \\\n",
       "5509  5510  CC8969*01  CC8969           1  CC8969*01       194   \n",
       "\n",
       "                 FAMILY                      NAME  \\\n",
       "5509  Cercidiphyllaceae  Cercidiphyllum japonicum   \n",
       "\n",
       "                            NAME_HTML ALT_SYN_NA  ... SPREAD SPREAD_UNI  \\\n",
       "5509  <I>Cercidiphyllum japonicum</I>             ...                     \n",
       "\n",
       "     LABEL_HAVE LABEL_NEED DEDIC_LABE                     GPS_Point Zone_ID  \\\n",
       "5509                                   POINT (-84.472342 42.719607)  zone_G   \n",
       "\n",
       "                                                IN_ZONE  Plot_ID  \\\n",
       "5509  POLYGON ((-84.47791948448484 42.72326911436249...  X31-Y50   \n",
       "\n",
       "                                                IN_PLOT  \n",
       "5509  <GeometryArray>\\n[<POLYGON ((-84.472 42.72, -8...  \n",
       "\n",
       "[1 rows x 50 columns]"
      ]
     },
     "execution_count": 32,
     "metadata": {},
     "output_type": "execute_result"
    }
   ],
   "source": [
    "df.sample()"
   ]
  },
  {
   "cell_type": "code",
   "execution_count": 34,
   "id": "eecaa57e-9224-4d22-b631-84d32353e219",
   "metadata": {},
   "outputs": [],
   "source": [
    "def single_tree_tts(train_zones=train_zones, val_zones=val_zones):\n",
    "    X_train, y_train, X_val, y_val = None, None, None, None\n",
    "    return X_train, y_train, X_val, y_val\n",
    "\n",
    "                    "
   ]
  },
  {
   "cell_type": "code",
   "execution_count": null,
   "id": "1fee3b21-a30b-4257-9626-a7e31cc4a296",
   "metadata": {},
   "outputs": [],
   "source": [
    "\n",
    "train_height_rows, val_height_rows = None,None"
   ]
  },
  {
   "cell_type": "code",
   "execution_count": null,
   "id": "84e75525-d539-4399-be92-535e29111a51",
   "metadata": {},
   "outputs": [],
   "source": [
    "#predict DBH and HEIGHT"
   ]
  }
 ],
 "metadata": {
  "kernelspec": {
   "display_name": "Python (tree-env)",
   "language": "python",
   "name": "tree-env"
  },
  "language_info": {
   "codemirror_mode": {
    "name": "ipython",
    "version": 3
   },
   "file_extension": ".py",
   "mimetype": "text/x-python",
   "name": "python",
   "nbconvert_exporter": "python",
   "pygments_lexer": "ipython3",
   "version": "3.9.19"
  }
 },
 "nbformat": 4,
 "nbformat_minor": 5
}
