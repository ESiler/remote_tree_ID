{
 "cells": [
  {
   "cell_type": "code",
   "execution_count": 212,
   "id": "96b1b6fc-9577-45a5-bb19-9855d4480c10",
   "metadata": {},
   "outputs": [],
   "source": [
    "#libs\n",
    "import numpy as np\n",
    "import pandas as pd\n",
    "import random\n",
    "\n",
    "#regression models\n",
    "from sklearn.linear_model import LinearRegression, Ridge, Lasso\n",
    "from sklearn.ensemble import RandomForestRegressor\n",
    "from sklearn.metrics import mean_squared_error, r2_score\n",
    "\n",
    "#classification models\n",
    "from sklearn.linear_model import LogisticRegression\n",
    "from sklearn.ensemble import RandomForestClassifier\n",
    "from sklearn.svm import SVC\n",
    "#import xgboost as xgb\n",
    "\n",
    "from sklearn.metrics import accuracy_score, classification_report"
   ]
  },
  {
   "cell_type": "code",
   "execution_count": 204,
   "id": "17b85ff5-5a5b-443c-b9a7-c2a25b222305",
   "metadata": {},
   "outputs": [],
   "source": [
    "## load data\n",
    "df = pd.read_csv('../data/trees_data_train.csv', index_col=0)\n",
    "#load pcs\n",
    "tree_pcs = pd.read_csv('../data/single_tree_pcs.csv', index_col=0)\n",
    "xval_zones = pd.read_csv('../data/Zone_splits_OFFICIAL.txt')\n",
    "\n",
    "df.HEIGHT = pd.to_numeric(df.HEIGHT, errors='coerce')\n",
    "df.DBH = pd.to_numeric(df.DBH, errors='coerce')"
   ]
  },
  {
   "cell_type": "code",
   "execution_count": 205,
   "id": "385f43aa-c382-4ca8-8f7a-f91107ab5205",
   "metadata": {},
   "outputs": [],
   "source": [
    "#Label taxa categories\n",
    "conifer_fams = ['Pinaceae', 'Arucarailes', 'Podocarpaceae', 'Sciadopityaceae', 'Cupressaceae', 'Cephalotaxaceae', 'Taxaceae']\n",
    "genus_codes = {'PINUS':1, 'ACER':2, 'QUERCUS':3, 'MALUS':4, 'GLEDITSIA': 5, \n",
    "               'PICEA': 6, 'ULMUS': 7, 'THUJA': 8, 'PLANTANUS': 9, 'FRAXINUS': 10}\n",
    "df['CONIFER_CAT'] = df.FAMILY.isin(conifer_fams).map({True: 1, False: 2})\n",
    "df['GENUS_CAT'] = df.GENUS.map(genus_codes).fillna(11).astype(int)"
   ]
  },
  {
   "cell_type": "code",
   "execution_count": 207,
   "id": "636a31f6-88cf-45fb-af0e-b86b89486a40",
   "metadata": {},
   "outputs": [
    {
     "data": {
      "text/html": [
       "<div>\n",
       "<style scoped>\n",
       "    .dataframe tbody tr th:only-of-type {\n",
       "        vertical-align: middle;\n",
       "    }\n",
       "\n",
       "    .dataframe tbody tr th {\n",
       "        vertical-align: top;\n",
       "    }\n",
       "\n",
       "    .dataframe thead th {\n",
       "        text-align: right;\n",
       "    }\n",
       "</style>\n",
       "<table border=\"1\" class=\"dataframe\">\n",
       "  <thead>\n",
       "    <tr style=\"text-align: right;\">\n",
       "      <th></th>\n",
       "      <th>FID</th>\n",
       "      <th>ACC_NUM_AN</th>\n",
       "      <th>ACC_NUM</th>\n",
       "      <th>ACC_NUM_QU</th>\n",
       "      <th>ACC_NUM__1</th>\n",
       "      <th>NAME_NUM</th>\n",
       "      <th>FAMILY</th>\n",
       "      <th>NAME</th>\n",
       "      <th>NAME_HTML</th>\n",
       "      <th>ALT_SYN_NA</th>\n",
       "      <th>...</th>\n",
       "      <th>LABEL_HAVE</th>\n",
       "      <th>LABEL_NEED</th>\n",
       "      <th>DEDIC_LABE</th>\n",
       "      <th>GPS_Point</th>\n",
       "      <th>Zone_ID</th>\n",
       "      <th>IN_ZONE</th>\n",
       "      <th>Plot_ID</th>\n",
       "      <th>IN_PLOT</th>\n",
       "      <th>CONIFER_CAT</th>\n",
       "      <th>GENUS_CAT</th>\n",
       "    </tr>\n",
       "  </thead>\n",
       "  <tbody>\n",
       "    <tr>\n",
       "      <th>17175</th>\n",
       "      <td>17176</td>\n",
       "      <td>CC5895*03</td>\n",
       "      <td>CC5895</td>\n",
       "      <td>3</td>\n",
       "      <td>CC5895*03</td>\n",
       "      <td>1086</td>\n",
       "      <td>Ulmaceae</td>\n",
       "      <td>Ulmus rubra</td>\n",
       "      <td>&lt;I&gt;Ulmus rubra&lt;/I&gt;</td>\n",
       "      <td></td>\n",
       "      <td>...</td>\n",
       "      <td></td>\n",
       "      <td></td>\n",
       "      <td></td>\n",
       "      <td>POINT (-84.480467 42.727727)</td>\n",
       "      <td>zone_I</td>\n",
       "      <td>POLYGON ((-84.47787524919971 42.72750980584095...</td>\n",
       "      <td>X15-Y37</td>\n",
       "      <td>&lt;GeometryArray&gt;\\n[&lt;POLYGON ((-84.48 42.728, -8...</td>\n",
       "      <td>2</td>\n",
       "      <td>7</td>\n",
       "    </tr>\n",
       "    <tr>\n",
       "      <th>8176</th>\n",
       "      <td>8177</td>\n",
       "      <td>20060280*06</td>\n",
       "      <td>20060280</td>\n",
       "      <td>6</td>\n",
       "      <td>20060280*06</td>\n",
       "      <td>1736</td>\n",
       "      <td>Pinaceae</td>\n",
       "      <td>Abies balsamea var. phanerolepis</td>\n",
       "      <td>&lt;I&gt;Abies balsamea&lt;/I&gt; var. &lt;I&gt;phanerolepis&lt;/I&gt;</td>\n",
       "      <td></td>\n",
       "      <td>...</td>\n",
       "      <td></td>\n",
       "      <td></td>\n",
       "      <td></td>\n",
       "      <td>POINT (-84.480884 42.729811)</td>\n",
       "      <td>zone_D</td>\n",
       "      <td>POLYGON ((-84.4808943047544 42.734305411463055...</td>\n",
       "      <td>X11-Y36</td>\n",
       "      <td>&lt;GeometryArray&gt;\\n[&lt;POLYGON ((-84.481 42.73, -8...</td>\n",
       "      <td>1</td>\n",
       "      <td>11</td>\n",
       "    </tr>\n",
       "    <tr>\n",
       "      <th>14125</th>\n",
       "      <td>14126</td>\n",
       "      <td>CC5837*01</td>\n",
       "      <td>CC5837</td>\n",
       "      <td>1</td>\n",
       "      <td>CC5837*01</td>\n",
       "      <td>76</td>\n",
       "      <td>Sapindaceae</td>\n",
       "      <td>Acer saccharum</td>\n",
       "      <td>&lt;I&gt;Acer saccharum&lt;/I&gt;</td>\n",
       "      <td></td>\n",
       "      <td>...</td>\n",
       "      <td></td>\n",
       "      <td></td>\n",
       "      <td></td>\n",
       "      <td>POINT (-84.470149 42.726685)</td>\n",
       "      <td>zone_Q</td>\n",
       "      <td>POLYGON ((-84.46685388916796 42.72693262734432...</td>\n",
       "      <td>X17-Y53</td>\n",
       "      <td>&lt;GeometryArray&gt;\\n[&lt;POLYGON ((-84.47 42.727, -8...</td>\n",
       "      <td>2</td>\n",
       "      <td>2</td>\n",
       "    </tr>\n",
       "  </tbody>\n",
       "</table>\n",
       "<p>3 rows × 52 columns</p>\n",
       "</div>"
      ],
      "text/plain": [
       "         FID   ACC_NUM_AN   ACC_NUM  ACC_NUM_QU   ACC_NUM__1  NAME_NUM  \\\n",
       "17175  17176    CC5895*03    CC5895           3    CC5895*03      1086   \n",
       "8176    8177  20060280*06  20060280           6  20060280*06      1736   \n",
       "14125  14126    CC5837*01    CC5837           1    CC5837*01        76   \n",
       "\n",
       "            FAMILY                              NAME  \\\n",
       "17175     Ulmaceae                       Ulmus rubra   \n",
       "8176      Pinaceae  Abies balsamea var. phanerolepis   \n",
       "14125  Sapindaceae                    Acer saccharum   \n",
       "\n",
       "                                            NAME_HTML ALT_SYN_NA  ...  \\\n",
       "17175                              <I>Ulmus rubra</I>             ...   \n",
       "8176   <I>Abies balsamea</I> var. <I>phanerolepis</I>             ...   \n",
       "14125                           <I>Acer saccharum</I>             ...   \n",
       "\n",
       "      LABEL_HAVE LABEL_NEED DEDIC_LABE                     GPS_Point Zone_ID  \\\n",
       "17175                                   POINT (-84.480467 42.727727)  zone_I   \n",
       "8176                                    POINT (-84.480884 42.729811)  zone_D   \n",
       "14125                                   POINT (-84.470149 42.726685)  zone_Q   \n",
       "\n",
       "                                                 IN_ZONE  Plot_ID  \\\n",
       "17175  POLYGON ((-84.47787524919971 42.72750980584095...  X15-Y37   \n",
       "8176   POLYGON ((-84.4808943047544 42.734305411463055...  X11-Y36   \n",
       "14125  POLYGON ((-84.46685388916796 42.72693262734432...  X17-Y53   \n",
       "\n",
       "                                                 IN_PLOT CONIFER_CAT GENUS_CAT  \n",
       "17175  <GeometryArray>\\n[<POLYGON ((-84.48 42.728, -8...           2         7  \n",
       "8176   <GeometryArray>\\n[<POLYGON ((-84.481 42.73, -8...           1        11  \n",
       "14125  <GeometryArray>\\n[<POLYGON ((-84.47 42.727, -8...           2         2  \n",
       "\n",
       "[3 rows x 52 columns]"
      ]
     },
     "execution_count": 207,
     "metadata": {},
     "output_type": "execute_result"
    }
   ],
   "source": [
    "df.sample(3)"
   ]
  },
  {
   "cell_type": "code",
   "execution_count": 120,
   "id": "08dded96-017a-47c7-aa9b-757a03235f55",
   "metadata": {},
   "outputs": [],
   "source": [
    "train_zones = list(xval_zones['ZONE'].loc[xval_zones['ASSIGNMENT'] == 'train'])\n",
    "val_zones = list(xval_zones['ZONE'].loc[xval_zones['ASSIGNMENT'] == 'val'])"
   ]
  },
  {
   "cell_type": "code",
   "execution_count": 150,
   "id": "eecaa57e-9224-4d22-b631-84d32353e219",
   "metadata": {},
   "outputs": [],
   "source": [
    "def single_tree_tts(df=df, pc_df = tree_pcs, train_zones=train_zones, val_zones=val_zones, y_metric='HEIGHT'):\n",
    "    train_df = df[['FID', y_metric]][df.Zone_ID.isin(train_zones)].dropna()\n",
    "    val_df = df[['FID', y_metric]][df.Zone_ID.isin(val_zones)].dropna()\n",
    "\n",
    "    train_fids = list(train_df['FID'])\n",
    "    val_fids = list(val_df['FID'])\n",
    "    \n",
    "    y_train = np.array(train_df[y_metric])\n",
    "    y_val = np.array(val_df[y_metric])\n",
    "\n",
    "    X_train = pc_df.loc[train_fids]\n",
    "    X_val = pc_df.loc[val_fids]\n",
    "    \n",
    "    return X_train, X_val, y_train, y_val                 "
   ]
  },
  {
   "cell_type": "markdown",
   "id": "9ef34859-baf5-4097-bc65-c122bd8cc5e1",
   "metadata": {},
   "source": [
    "### Regression models"
   ]
  },
  {
   "cell_type": "code",
   "execution_count": 151,
   "id": "6c78e45d-ddcc-4c65-adea-7a06624d33c5",
   "metadata": {},
   "outputs": [],
   "source": [
    "X_train, X_val, y_train, y_val  = single_tree_tts()"
   ]
  },
  {
   "cell_type": "code",
   "execution_count": 154,
   "id": "84e75525-d539-4399-be92-535e29111a51",
   "metadata": {},
   "outputs": [
    {
     "name": "stdout",
     "output_type": "stream",
     "text": [
      "194.9438532977864 -0.1558992841915281\n"
     ]
    }
   ],
   "source": [
    "### HEIGHT models\n",
    "## Linear regression \n",
    "linear_reg = LinearRegression()\n",
    "linear_reg.fit(X_train, y_train)\n",
    "\n",
    "# Predict on the test set\n",
    "y_pred = linear_reg.predict(X_val)\n",
    "\n",
    "# Evaluate the model\n",
    "mse = mean_squared_error(y_val, y_pred)\n",
    "r2 = r2_score(y_val, y_pred)\n",
    "\n",
    "print(mse, r2)"
   ]
  },
  {
   "cell_type": "code",
   "execution_count": 163,
   "id": "688bddcb-d079-4b2c-9b9e-ca8d51ce0085",
   "metadata": {},
   "outputs": [
    {
     "name": "stdout",
     "output_type": "stream",
     "text": [
      "Ridge Regression - Mean Squared Error: 194.9439, R-squared: -0.1559\n"
     ]
    }
   ],
   "source": [
    "#Ridge regression model\n",
    "ridge_reg = Ridge(alpha=1.0)  # Adjust alpha for more or less regularization\n",
    "ridge_reg.fit(X_train, y_train)\n",
    "\n",
    "# Predict on the test set\n",
    "y_pred = ridge_reg.predict(X_val)\n",
    "\n",
    "# Evaluate the model\n",
    "mse = mean_squared_error(y_val, y_pred)\n",
    "r2 = r2_score(y_val, y_pred)\n",
    "print(f\"Ridge Regression - Mean Squared Error: {mse:.4f}, R-squared: {r2:.4f}\")"
   ]
  },
  {
   "cell_type": "code",
   "execution_count": 164,
   "id": "8f55c457-d16c-47f2-8526-2e49429dac78",
   "metadata": {},
   "outputs": [
    {
     "name": "stdout",
     "output_type": "stream",
     "text": [
      "Lasso Regression - Mean Squared Error: 194.9017, R-squared: -0.1556\n"
     ]
    }
   ],
   "source": [
    "#Lasso regression model\n",
    "lasso_reg = Lasso(alpha=0.1)  # Adjust alpha for more or less regularization\n",
    "lasso_reg.fit(X_train, y_train)\n",
    "\n",
    "# Predict on the test set\n",
    "y_pred = lasso_reg.predict(X_val)\n",
    "\n",
    "# Evaluate the model\n",
    "mse = mean_squared_error(y_val, y_pred)\n",
    "r2 = r2_score(y_val, y_pred)\n",
    "print(f\"Lasso Regression - Mean Squared Error: {mse:.4f}, R-squared: {r2:.4f}\")"
   ]
  },
  {
   "cell_type": "code",
   "execution_count": 165,
   "id": "bdd32f3d-3192-4000-a684-453e5d713938",
   "metadata": {},
   "outputs": [
    {
     "name": "stdout",
     "output_type": "stream",
     "text": [
      "Random Forest - Mean Squared Error: 196.4491, R-squared: -0.1648\n"
     ]
    }
   ],
   "source": [
    "# Train a Random Forest Regressor\n",
    "rf_regressor = RandomForestRegressor(n_estimators=100, random_state=42)\n",
    "rf_regressor.fit(X_train, y_train)\n",
    "\n",
    "# Predict on the test set\n",
    "y_pred = rf_regressor.predict(X_val)\n",
    "\n",
    "# Evaluate the model\n",
    "mse = mean_squared_error(y_val, y_pred)\n",
    "r2 = r2_score(y_val, y_pred)\n",
    "print(f\"Random Forest - Mean Squared Error: {mse:.4f}, R-squared: {r2:.4f}\")\n"
   ]
  },
  {
   "cell_type": "code",
   "execution_count": 167,
   "id": "4a672008-2446-4597-81f2-803534c100bd",
   "metadata": {},
   "outputs": [],
   "source": [
    "### DBH models\n",
    "X_train, X_val, y_train, y_val  = single_tree_tts(y_metric='DBH')"
   ]
  },
  {
   "cell_type": "code",
   "execution_count": 168,
   "id": "1c12a742-edb6-4c67-99aa-194ae6e1fe7c",
   "metadata": {},
   "outputs": [
    {
     "name": "stdout",
     "output_type": "stream",
     "text": [
      "54.53531996746001 0.1977861458975394\n"
     ]
    }
   ],
   "source": [
    "## Linear regression \n",
    "linear_reg = LinearRegression()\n",
    "linear_reg.fit(X_train, y_train)\n",
    "\n",
    "# Predict on the test set\n",
    "y_pred = linear_reg.predict(X_val)\n",
    "\n",
    "# Evaluate the model\n",
    "mse = mean_squared_error(y_val, y_pred)\n",
    "r2 = r2_score(y_val, y_pred)\n",
    "\n",
    "print(mse, r2)"
   ]
  },
  {
   "cell_type": "code",
   "execution_count": 169,
   "id": "daffa366-a3a5-4848-b0d8-479608575e0e",
   "metadata": {},
   "outputs": [
    {
     "name": "stdout",
     "output_type": "stream",
     "text": [
      "Ridge Regression - Mean Squared Error: 54.5353, R-squared: 0.1978\n"
     ]
    }
   ],
   "source": [
    "#Ridge regression model\n",
    "ridge_reg = Ridge(alpha=1.0)  # Adjust alpha for more or less regularization\n",
    "ridge_reg.fit(X_train, y_train)\n",
    "\n",
    "# Predict on the test set\n",
    "y_pred = ridge_reg.predict(X_val)\n",
    "\n",
    "# Evaluate the model\n",
    "mse = mean_squared_error(y_val, y_pred)\n",
    "r2 = r2_score(y_val, y_pred)\n",
    "print(f\"Ridge Regression - Mean Squared Error: {mse:.4f}, R-squared: {r2:.4f}\")"
   ]
  },
  {
   "cell_type": "code",
   "execution_count": 170,
   "id": "8934e68a-0ff0-4e13-b6f6-cbcf4a2efb9d",
   "metadata": {},
   "outputs": [
    {
     "name": "stdout",
     "output_type": "stream",
     "text": [
      "Lasso Regression - Mean Squared Error: 54.5337, R-squared: 0.1978\n"
     ]
    }
   ],
   "source": [
    "#Lasso regression model\n",
    "lasso_reg = Lasso(alpha=0.1)  # Adjust alpha for more or less regularization\n",
    "lasso_reg.fit(X_train, y_train)\n",
    "\n",
    "# Predict on the test set\n",
    "y_pred = lasso_reg.predict(X_val)\n",
    "\n",
    "# Evaluate the model\n",
    "mse = mean_squared_error(y_val, y_pred)\n",
    "r2 = r2_score(y_val, y_pred)\n",
    "print(f\"Lasso Regression - Mean Squared Error: {mse:.4f}, R-squared: {r2:.4f}\")"
   ]
  },
  {
   "cell_type": "code",
   "execution_count": 171,
   "id": "66792c18-939b-4921-82bf-51a923a9f86b",
   "metadata": {},
   "outputs": [
    {
     "name": "stdout",
     "output_type": "stream",
     "text": [
      "Random Forest - Mean Squared Error: 57.8000, R-squared: 0.1498\n"
     ]
    }
   ],
   "source": [
    "# Train a Random Forest Regressor\n",
    "rf_regressor = RandomForestRegressor(n_estimators=100, random_state=42)\n",
    "rf_regressor.fit(X_train, y_train)\n",
    "\n",
    "# Predict on the test set\n",
    "y_pred = rf_regressor.predict(X_val)\n",
    "\n",
    "# Evaluate the model\n",
    "mse = mean_squared_error(y_val, y_pred)\n",
    "r2 = r2_score(y_val, y_pred)\n",
    "print(f\"Random Forest - Mean Squared Error: {mse:.4f}, R-squared: {r2:.4f}\")"
   ]
  },
  {
   "cell_type": "markdown",
   "id": "5d233bed-9da3-4e7b-b326-d2b3975bc825",
   "metadata": {},
   "source": [
    "### Classification models"
   ]
  },
  {
   "cell_type": "code",
   "execution_count": 213,
   "id": "6ba83bf2-ba99-4d67-aab5-d6109d6ca7c6",
   "metadata": {},
   "outputs": [
    {
     "name": "stdout",
     "output_type": "stream",
     "text": [
      "Logistic Regression Accuracy: 0.7300\n",
      "              precision    recall  f1-score   support\n",
      "\n",
      "           1       0.35      0.21      0.27       999\n",
      "           2       0.79      0.88      0.83      3364\n",
      "\n",
      "    accuracy                           0.73      4363\n",
      "   macro avg       0.57      0.55      0.55      4363\n",
      "weighted avg       0.69      0.73      0.70      4363\n",
      "\n"
     ]
    }
   ],
   "source": [
    "### Conifer vs. Broadleaf\n",
    "## Logistic Regression\n",
    "X_train, X_val, y_train, y_val = single_tree_tts(y_metric='CONIFER_CAT')\n",
    "\n",
    "# Instantiate the model\n",
    "logistic_reg = LogisticRegression(max_iter=1000, random_state=42)\n",
    "\n",
    "# Train the model\n",
    "logistic_reg.fit(X_train, y_train)\n",
    "\n",
    "# Predict on the test set\n",
    "y_pred = logistic_reg.predict(X_val)\n",
    "\n",
    "# Evaluate the model\n",
    "accuracy = accuracy_score(y_val, y_pred)\n",
    "print(f\"Logistic Regression Accuracy: {accuracy:.4f}\")\n",
    "print(classification_report(y_val, y_pred))"
   ]
  },
  {
   "cell_type": "code",
   "execution_count": 217,
   "id": "9d7b33ce-3a40-4ef8-b34a-3bcabb5f476f",
   "metadata": {},
   "outputs": [
    {
     "name": "stdout",
     "output_type": "stream",
     "text": [
      "Logistic Regression Accuracy: 0.3495\n",
      "              precision    recall  f1-score   support\n",
      "\n",
      "           1       0.13      0.16      0.15       438\n",
      "           2       0.34      0.19      0.24       712\n",
      "           3       0.30      0.09      0.14       476\n",
      "           4       0.11      0.02      0.04       327\n",
      "           5       0.09      0.02      0.03       152\n",
      "           6       0.13      0.08      0.10       187\n",
      "           7       0.50      0.01      0.03       147\n",
      "           8       0.00      0.00      0.00       207\n",
      "          10       0.00      0.00      0.00        43\n",
      "          11       0.41      0.75      0.53      1674\n",
      "\n",
      "    accuracy                           0.35      4363\n",
      "   macro avg       0.20      0.13      0.13      4363\n",
      "weighted avg       0.29      0.35      0.28      4363\n",
      "\n"
     ]
    },
    {
     "name": "stderr",
     "output_type": "stream",
     "text": [
      "/home/eleanor/Documents/MADS/699_Capstone/tree-env/lib/python3.9/site-packages/sklearn/linear_model/_logistic.py:469: ConvergenceWarning: lbfgs failed to converge (status=1):\n",
      "STOP: TOTAL NO. of ITERATIONS REACHED LIMIT.\n",
      "\n",
      "Increase the number of iterations (max_iter) or scale the data as shown in:\n",
      "    https://scikit-learn.org/stable/modules/preprocessing.html\n",
      "Please also refer to the documentation for alternative solver options:\n",
      "    https://scikit-learn.org/stable/modules/linear_model.html#logistic-regression\n",
      "  n_iter_i = _check_optimize_result(\n"
     ]
    }
   ],
   "source": [
    "### Top genera classification\n",
    "X_train, X_val, y_train, y_val = single_tree_tts(y_metric='GENUS_CAT')\n",
    "\n",
    "# logistic regression\n",
    "logistic_reg = LogisticRegression(max_iter=10000, random_state=42)\n",
    "\n",
    "# Train the model\n",
    "logistic_reg.fit(X_train, y_train)\n",
    "\n",
    "# Predict on the test set\n",
    "y_pred = logistic_reg.predict(X_val)\n",
    "\n",
    "# Evaluate the model\n",
    "accuracy = accuracy_score(y_val, y_pred)\n",
    "print(f\"Logistic Regression Accuracy: {accuracy:.4f}\")\n",
    "print(classification_report(y_val, y_pred))\n"
   ]
  },
  {
   "cell_type": "code",
   "execution_count": 279,
   "id": "723261ed-c932-4ef9-9d5f-0d8ecdd13c95",
   "metadata": {},
   "outputs": [
    {
     "data": {
      "text/plain": [
       "(array([ 1, 11,  4, ...,  2,  2,  1]), array([11,  1,  2, ..., 11,  2, 11]))"
      ]
     },
     "execution_count": 279,
     "metadata": {},
     "output_type": "execute_result"
    }
   ],
   "source": [
    "shuffler = np.random.default_rng(42)\n",
    "y_train_random = y_train.copy()\n",
    "shuffler.shuffle(y_train_random)\n",
    "y_train, y_train_random"
   ]
  },
  {
   "cell_type": "markdown",
   "id": "4859556c-d04e-44c7-93d7-ac6d5d306ccc",
   "metadata": {},
   "source": [
    "### YOLO classifier"
   ]
  },
  {
   "cell_type": "code",
   "execution_count": null,
   "id": "aa749cae-cd43-4f9c-bd71-bfccb4d2ac5e",
   "metadata": {},
   "outputs": [],
   "source": [
    "\n",
    "\n",
    "\n",
    "\n"
   ]
  }
 ],
 "metadata": {
  "kernelspec": {
   "display_name": "Python (tree-env)",
   "language": "python",
   "name": "tree-env"
  },
  "language_info": {
   "codemirror_mode": {
    "name": "ipython",
    "version": 3
   },
   "file_extension": ".py",
   "mimetype": "text/x-python",
   "name": "python",
   "nbconvert_exporter": "python",
   "pygments_lexer": "ipython3",
   "version": "3.9.19"
  }
 },
 "nbformat": 4,
 "nbformat_minor": 5
}
