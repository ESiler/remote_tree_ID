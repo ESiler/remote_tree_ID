{
 "cells": [
  {
   "cell_type": "code",
   "execution_count": 9,
   "id": "ffd9b48c",
   "metadata": {},
   "outputs": [],
   "source": [
    "#libs\n",
    "import folium\n",
    "import pandas as pd\n",
    "import treeutil"
   ]
  },
  {
   "cell_type": "code",
   "execution_count": 10,
   "id": "03ec7208",
   "metadata": {},
   "outputs": [],
   "source": [
    "#data\n",
    "df = pd.read_csv('../data/campustreedata.csv')"
   ]
  },
  {
   "cell_type": "code",
   "execution_count": 11,
   "id": "7311b052",
   "metadata": {},
   "outputs": [
    {
     "ename": "NameError",
     "evalue": "name 'folium' is not defined",
     "output_type": "error",
     "traceback": [
      "\u001b[0;31m---------------------------------------------------------------------------\u001b[0m",
      "\u001b[0;31mNameError\u001b[0m                                 Traceback (most recent call last)",
      "Input \u001b[0;32mIn [11]\u001b[0m, in \u001b[0;36m<cell line: 1>\u001b[0;34m()\u001b[0m\n\u001b[0;32m----> 1\u001b[0m \u001b[43mtreeutil\u001b[49m\u001b[38;5;241;43m.\u001b[39;49m\u001b[43mshow_random_tree\u001b[49m\u001b[43m(\u001b[49m\u001b[43mdf\u001b[49m\u001b[43m)\u001b[49m\n",
      "File \u001b[0;32m~/Documents/MADS/699_Capstone/Tree_Code/treeutil.py:10\u001b[0m, in \u001b[0;36mshow_random_tree\u001b[0;34m(df)\u001b[0m\n\u001b[1;32m      7\u001b[0m species_label \u001b[38;5;241m=\u001b[39m random_tree[\u001b[38;5;124m'\u001b[39m\u001b[38;5;124mCOMMON_NAM\u001b[39m\u001b[38;5;124m'\u001b[39m]\u001b[38;5;241m.\u001b[39mitem() \u001b[38;5;241m+\u001b[39m \u001b[38;5;124m'\u001b[39m\u001b[38;5;124m (\u001b[39m\u001b[38;5;124m'\u001b[39m \u001b[38;5;241m+\u001b[39mrandom_tree[\u001b[38;5;124m'\u001b[39m\u001b[38;5;124mNAME\u001b[39m\u001b[38;5;124m'\u001b[39m]\u001b[38;5;241m.\u001b[39mitem() \u001b[38;5;241m+\u001b[39m \u001b[38;5;124m'\u001b[39m\u001b[38;5;124m)\u001b[39m\u001b[38;5;124m'\u001b[39m\n\u001b[1;32m      9\u001b[0m \u001b[38;5;66;03m#create map\u001b[39;00m\n\u001b[0;32m---> 10\u001b[0m mp \u001b[38;5;241m=\u001b[39m \u001b[43mfolium\u001b[49m\u001b[38;5;241m.\u001b[39mMap(location\u001b[38;5;241m=\u001b[39m[lat, long], zoom_start\u001b[38;5;241m=\u001b[39m\u001b[38;5;241m22\u001b[39m)\n\u001b[1;32m     11\u001b[0m \u001b[38;5;66;03m#add tree marker\u001b[39;00m\n\u001b[1;32m     12\u001b[0m folium\u001b[38;5;241m.\u001b[39mMarker(\n\u001b[1;32m     13\u001b[0m     location\u001b[38;5;241m=\u001b[39m[lat, long],\n\u001b[1;32m     14\u001b[0m     tooltip\u001b[38;5;241m=\u001b[39mspecies_label,\n\u001b[1;32m     15\u001b[0m     popup\u001b[38;5;241m=\u001b[39m(\u001b[38;5;124m\"\u001b[39m\u001b[38;5;124mhappy little trees\u001b[39m\u001b[38;5;124m\"\u001b[39m),\n\u001b[1;32m     16\u001b[0m     icon\u001b[38;5;241m=\u001b[39mfolium\u001b[38;5;241m.\u001b[39mIcon(color\u001b[38;5;241m=\u001b[39m\u001b[38;5;124m\"\u001b[39m\u001b[38;5;124mgreen\u001b[39m\u001b[38;5;124m\"\u001b[39m),\n\u001b[1;32m     17\u001b[0m )\u001b[38;5;241m.\u001b[39madd_to(mp)\n",
      "\u001b[0;31mNameError\u001b[0m: name 'folium' is not defined"
     ]
    }
   ],
   "source": [
    "treeutil.show_random_tree(df)"
   ]
  }
 ],
 "metadata": {
  "kernelspec": {
   "display_name": "Python 3 (ipykernel)",
   "language": "python",
   "name": "python3"
  },
  "language_info": {
   "codemirror_mode": {
    "name": "ipython",
    "version": 3
   },
   "file_extension": ".py",
   "mimetype": "text/x-python",
   "name": "python",
   "nbconvert_exporter": "python",
   "pygments_lexer": "ipython3",
   "version": "3.8.10"
  }
 },
 "nbformat": 4,
 "nbformat_minor": 5
}
