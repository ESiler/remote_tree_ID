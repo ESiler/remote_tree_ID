{
 "cells": [
  {
   "cell_type": "code",
   "execution_count": 36,
   "id": "02ae33f0-6af1-4623-a8de-cbf35a3ec852",
   "metadata": {},
   "outputs": [],
   "source": [
    "#load libraries\n",
    "import os\n",
    "from PIL import Image\n",
    "import numpy as np\n",
    "import pandas as pd\n",
    "from sklearn.decomposition import PCA\n",
    "import matplotlib.pyplot as plt"
   ]
  },
  {
   "cell_type": "code",
   "execution_count": 2,
   "id": "0f0df1a3-22ff-431b-b84f-8717ca8bf3b2",
   "metadata": {},
   "outputs": [],
   "source": [
    "## load data\n",
    "df = pd.read_csv('../data/campustreedata.csv')\n",
    "\n",
    "#remove trees with 0 lat or lon (indicating no location is recorded)\n",
    "df = df[(df.LAT)!=0]\n",
    "df = df[(df.LONG)!=0]"
   ]
  },
  {
   "cell_type": "code",
   "execution_count": 3,
   "id": "bde4881d-a186-4934-b090-3e20072abdda",
   "metadata": {},
   "outputs": [
    {
     "data": {
      "text/html": [
       "<div>\n",
       "<style scoped>\n",
       "    .dataframe tbody tr th:only-of-type {\n",
       "        vertical-align: middle;\n",
       "    }\n",
       "\n",
       "    .dataframe tbody tr th {\n",
       "        vertical-align: top;\n",
       "    }\n",
       "\n",
       "    .dataframe thead th {\n",
       "        text-align: right;\n",
       "    }\n",
       "</style>\n",
       "<table border=\"1\" class=\"dataframe\">\n",
       "  <thead>\n",
       "    <tr style=\"text-align: right;\">\n",
       "      <th></th>\n",
       "      <th>FID</th>\n",
       "      <th>ACC_NUM_AN</th>\n",
       "      <th>ACC_NUM</th>\n",
       "      <th>ACC_NUM_QU</th>\n",
       "      <th>ACC_NUM__1</th>\n",
       "      <th>NAME_NUM</th>\n",
       "      <th>FAMILY</th>\n",
       "      <th>NAME</th>\n",
       "      <th>NAME_HTML</th>\n",
       "      <th>ALT_SYN_NA</th>\n",
       "      <th>...</th>\n",
       "      <th>CIRCUMFERE</th>\n",
       "      <th>DBH</th>\n",
       "      <th>DBH_UNIT</th>\n",
       "      <th>HEIGHT</th>\n",
       "      <th>HEIGHT_UNI</th>\n",
       "      <th>SPREAD</th>\n",
       "      <th>SPREAD_UNI</th>\n",
       "      <th>LABEL_HAVE</th>\n",
       "      <th>LABEL_NEED</th>\n",
       "      <th>DEDIC_LABE</th>\n",
       "    </tr>\n",
       "  </thead>\n",
       "  <tbody>\n",
       "    <tr>\n",
       "      <th>14695</th>\n",
       "      <td>14696</td>\n",
       "      <td>CC6131*01</td>\n",
       "      <td>CC6131</td>\n",
       "      <td>1</td>\n",
       "      <td>CC6131*01</td>\n",
       "      <td>76</td>\n",
       "      <td>Sapindaceae</td>\n",
       "      <td>Acer saccharum</td>\n",
       "      <td>&lt;I&gt;Acer saccharum&lt;/I&gt;</td>\n",
       "      <td></td>\n",
       "      <td>...</td>\n",
       "      <td></td>\n",
       "      <td>9.4</td>\n",
       "      <td>I</td>\n",
       "      <td></td>\n",
       "      <td></td>\n",
       "      <td></td>\n",
       "      <td></td>\n",
       "      <td></td>\n",
       "      <td></td>\n",
       "      <td></td>\n",
       "    </tr>\n",
       "  </tbody>\n",
       "</table>\n",
       "<p>1 rows × 45 columns</p>\n",
       "</div>"
      ],
      "text/plain": [
       "         FID ACC_NUM_AN ACC_NUM  ACC_NUM_QU ACC_NUM__1  NAME_NUM       FAMILY  \\\n",
       "14695  14696  CC6131*01  CC6131           1  CC6131*01        76  Sapindaceae   \n",
       "\n",
       "                 NAME              NAME_HTML ALT_SYN_NA  ... CIRCUMFERE  DBH  \\\n",
       "14695  Acer saccharum  <I>Acer saccharum</I>             ...             9.4   \n",
       "\n",
       "      DBH_UNIT HEIGHT HEIGHT_UNI SPREAD SPREAD_UNI LABEL_HAVE LABEL_NEED  \\\n",
       "14695        I                                                             \n",
       "\n",
       "      DEDIC_LABE  \n",
       "14695             \n",
       "\n",
       "[1 rows x 45 columns]"
      ]
     },
     "execution_count": 3,
     "metadata": {},
     "output_type": "execute_result"
    }
   ],
   "source": [
    "df.sample()"
   ]
  },
  {
   "cell_type": "code",
   "execution_count": 18,
   "id": "66d5209b-ead2-448d-8722-9a14b8e7b02b",
   "metadata": {},
   "outputs": [],
   "source": [
    "#load image as np array\n",
    "def load_image_to_flat_np(FID, filepath = \"../Tree_Images/\"):\n",
    "    fp = filepath  + \"FID_\" + str(FID) + \".png\"\n",
    "    im = Image.open(fp)\n",
    "    im_rgb = im.convert('RGB')\n",
    "    npim = np.array(im_rgb).reshape((-1))\n",
    "    return npim\n",
    "\n",
    "def get_image_arrays(df=df):\n",
    "    X_data = []\n",
    "    for i, row in df.iterrows():\n",
    "        fid = row['FID']\n",
    "        npim = load_image_to_flat_np(fid)\n",
    "        X_data.append(npim)\n",
    "    return np.array(X_data)"
   ]
  },
  {
   "cell_type": "code",
   "execution_count": 19,
   "id": "b604bf3c-3326-4657-a44f-05bcb70bcba9",
   "metadata": {},
   "outputs": [],
   "source": [
    "## X_data is the numeric information from all the individual tree images\n",
    "X_data = get_image_arrays()"
   ]
  },
  {
   "cell_type": "code",
   "execution_count": 21,
   "id": "2c3c5de6-737a-4aec-bdbf-ad8b771822d6",
   "metadata": {},
   "outputs": [
    {
     "data": {
      "text/plain": [
       "(17543, 19200)"
      ]
     },
     "execution_count": 21,
     "metadata": {},
     "output_type": "execute_result"
    }
   ],
   "source": [
    "X_data.shape"
   ]
  },
  {
   "cell_type": "code",
   "execution_count": 29,
   "id": "4fce877d-2569-4a4a-8897-460188623f4a",
   "metadata": {},
   "outputs": [],
   "source": [
    "## X_data PCA\n",
    "pca = PCA(n_components=100)\n",
    "X_pca = pca.fit_transform(X_data)"
   ]
  },
  {
   "cell_type": "code",
   "execution_count": 37,
   "id": "5448ddb6-27ae-4756-af71-0e70de895ade",
   "metadata": {},
   "outputs": [
    {
     "data": {
      "text/plain": [
       "[<matplotlib.lines.Line2D at 0x7f7662cd7070>]"
      ]
     },
     "execution_count": 37,
     "metadata": {},
     "output_type": "execute_result"
    },
    {
     "data": {
      "image/png": "[encoded data removed]",
      "text/plain": [
       "<Figure size 640x480 with 1 Axes>"
      ]
     },
     "metadata": {},
     "output_type": "display_data"
    }
   ],
   "source": [
    "plt.plot(pca.explained_variance_ratio_)"
   ]
  },
  {
   "cell_type": "code",
   "execution_count": 38,
   "id": "bdff94e2-ede1-416a-9b80-4324c4b3e8cb",
   "metadata": {},
   "outputs": [
    {
     "data": {
      "text/plain": [
       "[<matplotlib.lines.Line2D at 0x7f7662bf3610>]"
      ]
     },
     "execution_count": 38,
     "metadata": {},
     "output_type": "execute_result"
    },
    {
     "data": {
      "image/png": "[encoded data removed]",
      "text/plain": [
       "<Figure size 640x480 with 1 Axes>"
      ]
     },
     "metadata": {},
     "output_type": "display_data"
    }
   ],
   "source": [
    "plt.plot(np.cumsum(pca.explained_variance_ratio_))"
   ]
  },
  {
   "cell_type": "code",
   "execution_count": 41,
   "id": "7d3c96fa-ae62-4c98-a5c0-60fc8f1b6188",
   "metadata": {},
   "outputs": [],
   "source": [
    "np.savetxt(\"../data/single_tree_pcs.csv\", X_pca, delimiter=\",\")"
   ]
  }
 ],
 "metadata": {
  "kernelspec": {
   "display_name": "Python (tree-env)",
   "language": "python",
   "name": "tree-env"
  },
  "language_info": {
   "codemirror_mode": {
    "name": "ipython",
    "version": 3
   },
   "file_extension": ".py",
   "mimetype": "text/x-python",
   "name": "python",
   "nbconvert_exporter": "python",
   "pygments_lexer": "ipython3",
   "version": "3.9.19"
  }
 },
 "nbformat": 4,
 "nbformat_minor": 5
}
