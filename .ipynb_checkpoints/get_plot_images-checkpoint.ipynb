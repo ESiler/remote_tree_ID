{
 "cells": [
  {
   "cell_type": "code",
   "execution_count": 1,
   "id": "3510a69d",
   "metadata": {},
   "outputs": [],
   "source": [
    "# libs\n",
    "import pandas as pd\n",
    "import numpy as np\n",
    "import geopandas as gpd\n",
    "import requests\n",
    "\n",
    "from PIL import Image\n",
    "from io import BytesIO"
   ]
  },
  {
   "cell_type": "code",
   "execution_count": 2,
   "id": "491717da",
   "metadata": {},
   "outputs": [],
   "source": [
    "# load data\n",
    "df = gpd.read_file('../data/plot_data_train.gpkg')"
   ]
  },
  {
   "cell_type": "code",
   "execution_count": 3,
   "id": "6dbd3f75",
   "metadata": {},
   "outputs": [
    {
     "ename": "NameError",
     "evalue": "name 'poly' is not defined",
     "output_type": "error",
     "traceback": [
      "\u001b[0;31m---------------------------------------------------------------------------\u001b[0m",
      "\u001b[0;31mNameError\u001b[0m                                 Traceback (most recent call last)",
      "Input \u001b[0;32mIn [3]\u001b[0m, in \u001b[0;36m<cell line: 3>\u001b[0;34m()\u001b[0m\n\u001b[1;32m      1\u001b[0m \u001b[38;5;66;03m#pixel length and width specs\u001b[39;00m\n\u001b[1;32m      2\u001b[0m sample_poly \u001b[38;5;241m=\u001b[39m df\u001b[38;5;241m.\u001b[39miloc[\u001b[38;5;241m0\u001b[39m][\u001b[38;5;241m3\u001b[39m]\n\u001b[0;32m----> 3\u001b[0m minx, miny, maxx, maxy \u001b[38;5;241m=\u001b[39m \u001b[43mpoly\u001b[49m\u001b[38;5;241m.\u001b[39mbounds\n\u001b[1;32m      4\u001b[0m aspect_ratio \u001b[38;5;241m=\u001b[39m ((maxx\u001b[38;5;241m-\u001b[39mminx)\u001b[38;5;241m/\u001b[39m(maxy\u001b[38;5;241m-\u001b[39mminy))\n\u001b[1;32m      5\u001b[0m x_pix_len \u001b[38;5;241m=\u001b[39m \u001b[38;5;241m284\u001b[39m \u001b[38;5;66;03m#this is the maximum x pixels, it was determined through trial and error\u001b[39;00m\n",
      "\u001b[0;31mNameError\u001b[0m: name 'poly' is not defined"
     ]
    }
   ],
   "source": [
    "#pixel length and width specs\n",
    "sample_poly = df.iloc[0][3]\n",
    "minx, miny, maxx, maxy = sample_poly.bounds\n",
    "aspect_ratio = ((maxx-minx)/(maxy-miny))\n",
    "x_pix_len = 284 #this is the maximum x pixels, it was determined through trial and error\n",
    "y_pix_len = round(x_pix_len*aspect_ratio)"
   ]
  },
  {
   "cell_type": "code",
   "execution_count": null,
   "id": "47dfa2cb",
   "metadata": {},
   "outputs": [],
   "source": [
    "df.sample()"
   ]
  },
  {
   "cell_type": "code",
   "execution_count": null,
   "id": "00f933aa",
   "metadata": {},
   "outputs": [],
   "source": [
    "def get_plot_images(gdf, limit=None):\n",
    "    for i, row in gdf.iterrows():\n",
    "        poly = row[3]\n",
    "        plot_id = row[0]\n",
    "        minx, miny, maxx, maxy = poly.bounds\n",
    "        esri_url = f\"https://services.arcgisonline.com/arcgis/rest/services/World_Imagery/MapServer/export?bbox={minx},{miny},{maxx},{maxy}&bboxSR=4326&imageSR=4326&size={x_pix_len},{y_pix_len}&f=image\"\n",
    "        response = requests.get(esri_url)  #written by gpt 4o\n",
    "        filename = '../Plot_Images/train/' + plot_id + '.png'\n",
    "        if response.status_code == 200:\n",
    "            img = Image.open(BytesIO(response.content))\n",
    "            img.save(filename)\n",
    "        else:\n",
    "            print(\"Failed to retrieve plot image \" + plot_id + \".\")\n",
    "        if i == limit:\n",
    "            break\n",
    "    return(print(\"Done!\"))"
   ]
  },
  {
   "cell_type": "code",
   "execution_count": null,
   "id": "924eb6fd",
   "metadata": {},
   "outputs": [],
   "source": [
    "get_plot_images(df)"
   ]
  }
 ],
 "metadata": {
  "kernelspec": {
   "display_name": "Python 3 (ipykernel)",
   "language": "python",
   "name": "python3"
  },
  "language_info": {
   "codemirror_mode": {
    "name": "ipython",
    "version": 3
   },
   "file_extension": ".py",
   "mimetype": "text/x-python",
   "name": "python",
   "nbconvert_exporter": "python",
   "pygments_lexer": "ipython3",
   "version": "3.8.10"
  }
 },
 "nbformat": 4,
 "nbformat_minor": 5
}
