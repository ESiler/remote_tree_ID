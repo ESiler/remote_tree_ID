{
 "cells": [
  {
   "cell_type": "code",
   "execution_count": 2,
   "id": "f5e2f45a",
   "metadata": {},
   "outputs": [],
   "source": [
    "# libs\n",
    "import pandas as pd\n",
    "import numpy as np\n",
    "import geopandas as gpd\n",
    "import requests\n",
    "\n",
    "from PIL import Image\n",
    "from io import BytesIO"
   ]
  },
  {
   "cell_type": "code",
   "execution_count": 3,
   "id": "b4d99200",
   "metadata": {},
   "outputs": [],
   "source": [
    "# load data\n",
    "df = gpd.read_file('../data/plot_data_train.gpkg')"
   ]
  },
  {
   "cell_type": "code",
   "execution_count": 5,
   "id": "c882f918",
   "metadata": {},
   "outputs": [],
   "source": [
    "#pixel length and width specs\n",
    "sample_poly = df.iloc[0][3]\n",
    "minx, miny, maxx, maxy = sample_poly.bounds\n",
    "aspect_ratio = ((maxx-minx)/(maxy-miny))\n",
    "x_pix_len = 284 #this is the maximum x pixels, it was determined through trial and error\n",
    "y_pix_len = round(x_pix_len*aspect_ratio)"
   ]
  },
  {
   "cell_type": "code",
   "execution_count": 6,
   "id": "ce8e5baf",
   "metadata": {},
   "outputs": [
    {
     "data": {
      "text/plain": [
       "1.2999999999801048"
      ]
     },
     "execution_count": 6,
     "metadata": {},
     "output_type": "execute_result"
    }
   ],
   "source": [
    "aspect_ratio"
   ]
  },
  {
   "cell_type": "code",
   "execution_count": 4,
   "id": "f35dbb54",
   "metadata": {},
   "outputs": [
    {
     "data": {
      "text/html": [
       "<div>\n",
       "<style scoped>\n",
       "    .dataframe tbody tr th:only-of-type {\n",
       "        vertical-align: middle;\n",
       "    }\n",
       "\n",
       "    .dataframe tbody tr th {\n",
       "        vertical-align: top;\n",
       "    }\n",
       "\n",
       "    .dataframe thead th {\n",
       "        text-align: right;\n",
       "    }\n",
       "</style>\n",
       "<table border=\"1\" class=\"dataframe\">\n",
       "  <thead>\n",
       "    <tr style=\"text-align: right;\">\n",
       "      <th></th>\n",
       "      <th>plot_id</th>\n",
       "      <th>zone_id</th>\n",
       "      <th>intersects_zones</th>\n",
       "      <th>geometry</th>\n",
       "    </tr>\n",
       "  </thead>\n",
       "  <tbody>\n",
       "    <tr>\n",
       "      <th>1452</th>\n",
       "      <td>X45-Y38</td>\n",
       "      <td>zone_O</td>\n",
       "      <td>True</td>\n",
       "      <td>POLYGON ((-84.47949 42.71310, -84.47884 42.713...</td>\n",
       "    </tr>\n",
       "  </tbody>\n",
       "</table>\n",
       "</div>"
      ],
      "text/plain": [
       "      plot_id zone_id  intersects_zones  \\\n",
       "1452  X45-Y38  zone_O              True   \n",
       "\n",
       "                                               geometry  \n",
       "1452  POLYGON ((-84.47949 42.71310, -84.47884 42.713...  "
      ]
     },
     "execution_count": 4,
     "metadata": {},
     "output_type": "execute_result"
    }
   ],
   "source": [
    "df.sample()"
   ]
  },
  {
   "cell_type": "code",
   "execution_count": 5,
   "id": "5083602d",
   "metadata": {},
   "outputs": [],
   "source": [
    "def get_plot_images(gdf, limit=None):\n",
    "    for i, row in gdf.iterrows():\n",
    "        poly = row[3]\n",
    "        plot_id = row[0]\n",
    "        minx, miny, maxx, maxy = poly.bounds\n",
    "        esri_url = f\"https://services.arcgisonline.com/arcgis/rest/services/World_Imagery/MapServer/export?bbox={minx},{miny},{maxx},{maxy}&bboxSR=4326&imageSR=4326&size={x_pix_len},{y_pix_len}&f=image\"\n",
    "        response = requests.get(esri_url)  #written by gpt 4o\n",
    "        filename = '../Plot_Images/train/' + plot_id + '.png'\n",
    "        if response.status_code == 200:\n",
    "            img = Image.open(BytesIO(response.content))\n",
    "            img.save(filename)\n",
    "        else:\n",
    "            print(\"Failed to retrieve plot image \" + plot_id + \".\")\n",
    "        if i == limit:\n",
    "            break\n",
    "    return(print(\"Done!\"))"
   ]
  },
  {
   "cell_type": "code",
   "execution_count": 6,
   "id": "eaa8b269",
   "metadata": {},
   "outputs": [
    {
     "name": "stdout",
     "output_type": "stream",
     "text": [
      "Done!\n"
     ]
    }
   ],
   "source": [
    "get_plot_images(df)"
   ]
  }
 ],
 "metadata": {
  "kernelspec": {
   "display_name": "Python 3 (ipykernel)",
   "language": "python",
   "name": "python3"
  },
  "language_info": {
   "codemirror_mode": {
    "name": "ipython",
    "version": 3
   },
   "file_extension": ".py",
   "mimetype": "text/x-python",
   "name": "python",
   "nbconvert_exporter": "python",
   "pygments_lexer": "ipython3",
   "version": "3.9.19"
  }
 },
 "nbformat": 4,
 "nbformat_minor": 5
}
