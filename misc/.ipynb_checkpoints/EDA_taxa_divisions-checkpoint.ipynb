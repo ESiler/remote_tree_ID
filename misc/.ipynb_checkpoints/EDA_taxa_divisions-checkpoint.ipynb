{
 "cells": [
  {
   "cell_type": "code",
   "execution_count": 2,
   "id": "afd9b680",
   "metadata": {},
   "outputs": [],
   "source": [
    "import numpy as np\n",
    "import pandas as pd\n",
    "import random\n",
    "import seaborn as sns"
   ]
  },
  {
   "cell_type": "code",
   "execution_count": 5,
   "id": "532628b0",
   "metadata": {},
   "outputs": [],
   "source": [
    "#load campus tree data\n",
    "df = pd.read_csv('../../data/campustreedata.csv')\n",
    "\n",
    "#remove trees with 0 lat or lon (indicating no location is recorded)\n",
    "df = df[(df.LAT)!=0]\n",
    "df = df[(df.LONG)!=0]"
   ]
  },
  {
   "cell_type": "code",
   "execution_count": 4,
   "id": "cddd517d",
   "metadata": {},
   "outputs": [],
   "source": [
    "#df.info()"
   ]
  },
  {
   "cell_type": "code",
   "execution_count": 6,
   "id": "5f802473",
   "metadata": {},
   "outputs": [],
   "source": [
    "taxa_counts = df.groupby(['FAMILY', 'GENUS', 'SPECIES']).size().reset_index(name='counts')\n",
    "families = df['FAMILY'].value_counts()\n",
    "families = list(families.keys())\n",
    "\n",
    "family_cat_type = pd.CategoricalDtype(categories=families, ordered=True)\n",
    "\n",
    "taxa_counts['FAMILY'] = taxa_counts['FAMILY'].astype(family_cat_type)\n",
    "taxa_counts = taxa_counts.sort_values(['FAMILY', 'counts'], ascending = [True, False])"
   ]
  },
  {
   "cell_type": "code",
   "execution_count": 7,
   "id": "99a1ea49",
   "metadata": {},
   "outputs": [],
   "source": [
    "genera = df['GENUS'].value_counts()[:60]"
   ]
  },
  {
   "cell_type": "code",
   "execution_count": 8,
   "id": "00e320a8",
   "metadata": {},
   "outputs": [],
   "source": [
    "taxa_counts.to_csv('taxa_counts.csv')"
   ]
  },
  {
   "cell_type": "code",
   "execution_count": 9,
   "id": "9a816092",
   "metadata": {},
   "outputs": [
    {
     "data": {
      "text/html": [
       "<div>\n",
       "<style scoped>\n",
       "    .dataframe tbody tr th:only-of-type {\n",
       "        vertical-align: middle;\n",
       "    }\n",
       "\n",
       "    .dataframe tbody tr th {\n",
       "        vertical-align: top;\n",
       "    }\n",
       "\n",
       "    .dataframe thead th {\n",
       "        text-align: right;\n",
       "    }\n",
       "</style>\n",
       "<table border=\"1\" class=\"dataframe\">\n",
       "  <thead>\n",
       "    <tr style=\"text-align: right;\">\n",
       "      <th></th>\n",
       "      <th>FAMILY</th>\n",
       "      <th>GENUS</th>\n",
       "      <th>SPECIES</th>\n",
       "      <th>counts</th>\n",
       "    </tr>\n",
       "  </thead>\n",
       "  <tbody>\n",
       "    <tr>\n",
       "      <th>317</th>\n",
       "      <td>Pinaceae</td>\n",
       "      <td>PINUS</td>\n",
       "      <td>strobus</td>\n",
       "      <td>1249</td>\n",
       "    </tr>\n",
       "    <tr>\n",
       "      <th>318</th>\n",
       "      <td>Pinaceae</td>\n",
       "      <td>PINUS</td>\n",
       "      <td>sylvestris</td>\n",
       "      <td>616</td>\n",
       "    </tr>\n",
       "    <tr>\n",
       "      <th>275</th>\n",
       "      <td>Pinaceae</td>\n",
       "      <td>PICEA</td>\n",
       "      <td>abies</td>\n",
       "      <td>579</td>\n",
       "    </tr>\n",
       "    <tr>\n",
       "      <th>308</th>\n",
       "      <td>Pinaceae</td>\n",
       "      <td>PINUS</td>\n",
       "      <td>nigra</td>\n",
       "      <td>309</td>\n",
       "    </tr>\n",
       "    <tr>\n",
       "      <th>279</th>\n",
       "      <td>Pinaceae</td>\n",
       "      <td>PICEA</td>\n",
       "      <td>glauca</td>\n",
       "      <td>162</td>\n",
       "    </tr>\n",
       "    <tr>\n",
       "      <th>...</th>\n",
       "      <td>...</td>\n",
       "      <td>...</td>\n",
       "      <td>...</td>\n",
       "      <td>...</td>\n",
       "    </tr>\n",
       "    <tr>\n",
       "      <th>37</th>\n",
       "      <td>Berberidaceae</td>\n",
       "      <td>MAHONIA</td>\n",
       "      <td>sp.</td>\n",
       "      <td>1</td>\n",
       "    </tr>\n",
       "    <tr>\n",
       "      <th>129</th>\n",
       "      <td>Escalloniaceae</td>\n",
       "      <td>ITEA</td>\n",
       "      <td>virginica</td>\n",
       "      <td>1</td>\n",
       "    </tr>\n",
       "    <tr>\n",
       "      <th>35</th>\n",
       "      <td>Asteraceae</td>\n",
       "      <td>BACCHARIS</td>\n",
       "      <td>halimifolia</td>\n",
       "      <td>1</td>\n",
       "    </tr>\n",
       "    <tr>\n",
       "      <th>476</th>\n",
       "      <td>Sciadopityaceae</td>\n",
       "      <td>SCIADOPITYS</td>\n",
       "      <td>verticillata</td>\n",
       "      <td>1</td>\n",
       "    </tr>\n",
       "    <tr>\n",
       "      <th>480</th>\n",
       "      <td>Staphyleaceae</td>\n",
       "      <td>STAPHYLEA</td>\n",
       "      <td>trifolia</td>\n",
       "      <td>1</td>\n",
       "    </tr>\n",
       "  </tbody>\n",
       "</table>\n",
       "<p>512 rows × 4 columns</p>\n",
       "</div>"
      ],
      "text/plain": [
       "              FAMILY        GENUS       SPECIES  counts\n",
       "317         Pinaceae        PINUS       strobus    1249\n",
       "318         Pinaceae        PINUS    sylvestris     616\n",
       "275         Pinaceae        PICEA         abies     579\n",
       "308         Pinaceae        PINUS         nigra     309\n",
       "279         Pinaceae        PICEA        glauca     162\n",
       "..               ...          ...           ...     ...\n",
       "37     Berberidaceae      MAHONIA           sp.       1\n",
       "129   Escalloniaceae         ITEA     virginica       1\n",
       "35        Asteraceae    BACCHARIS   halimifolia       1\n",
       "476  Sciadopityaceae  SCIADOPITYS  verticillata       1\n",
       "480    Staphyleaceae    STAPHYLEA      trifolia       1\n",
       "\n",
       "[512 rows x 4 columns]"
      ]
     },
     "execution_count": 9,
     "metadata": {},
     "output_type": "execute_result"
    }
   ],
   "source": [
    "taxa_counts"
   ]
  },
  {
   "cell_type": "code",
   "execution_count": 10,
   "id": "9c3f2459",
   "metadata": {},
   "outputs": [
    {
     "data": {
      "text/plain": [
       "(GENUS\n",
       " PINUS        2629\n",
       " ACER         2470\n",
       " QUERCUS      1513\n",
       " MALUS        1096\n",
       " GLEDITSIA    1046\n",
       " PICEA         912\n",
       " ULMUS         615\n",
       " THUJA         499\n",
       " PLATANUS      407\n",
       " FRAXINUS      367\n",
       " Name: count, dtype: int64,\n",
       " 5989)"
      ]
     },
     "execution_count": 10,
     "metadata": {},
     "output_type": "execute_result"
    }
   ],
   "source": [
    "df['GENUS'].value_counts()[:10], sum(df['GENUS'].value_counts()[10:])"
   ]
  },
  {
   "cell_type": "code",
   "execution_count": 12,
   "id": "fa3fa0b3",
   "metadata": {},
   "outputs": [
    {
     "data": {
      "text/plain": [
       "FAMILY\n",
       "Pinaceae             3998\n",
       "Sapindaceae          2549\n",
       "Rosaceae             1846\n",
       "Fagaceae             1617\n",
       "Fabaceae             1481\n",
       "Cupressaceae          746\n",
       "Ulmaceae              695\n",
       "Oleaceae              663\n",
       "Platanaceae           407\n",
       "Cornaceae             385\n",
       "Malvaceae             367\n",
       "Adoxaceae             355\n",
       "Betulaceae            341\n",
       "Magnoliaceae          248\n",
       "Hamamelidaceae        205\n",
       "Salicaceae            181\n",
       "Juglandaceae          173\n",
       "Ginkgoaceae           156\n",
       "Cannabaceae           146\n",
       "Taxodiaceae           137\n",
       "Taxaceae               95\n",
       "Lauraceae              79\n",
       "Celastraceae           69\n",
       "Caprifoliaceae         68\n",
       "Anacardiaceae          57\n",
       "Hydrangeaceae          49\n",
       "Eucommiaceae           41\n",
       "Cercidiphyllaceae      40\n",
       "Aquifoliaceae          38\n",
       "Corylaceae             34\n",
       "Rutaceae               33\n",
       "Rhamnaceae             30\n",
       "Moraceae               28\n",
       "Bignoniaceae           25\n",
       "Elaeagnaceae           24\n",
       "Simaroubaceae          19\n",
       "Annonaceae             15\n",
       "Ericaceae              15\n",
       "Styracaceae            14\n",
       "Buxaceae               13\n",
       "Myricaceae             11\n",
       "Verbenaceae             9\n",
       "Theaceae                6\n",
       "Calycanthaceae          6\n",
       "Clethraceae             6\n",
       "Ebenaceae               5\n",
       "Scrophulariaceae        5\n",
       "Tamaricaceae            3\n",
       "Ranunculaceae           3\n",
       "Berberidaceae           3\n",
       "Escalloniaceae          1\n",
       "Asteraceae              1\n",
       "Sciadopityaceae         1\n",
       "Staphyleaceae           1\n",
       "Name: count, dtype: int64"
      ]
     },
     "execution_count": 12,
     "metadata": {},
     "output_type": "execute_result"
    }
   ],
   "source": [
    "df['FAMILY'].value_counts()"
   ]
  },
  {
   "cell_type": "code",
   "execution_count": 57,
   "id": "20723054",
   "metadata": {},
   "outputs": [
    {
     "data": {
      "text/plain": [
       "17543"
      ]
     },
     "execution_count": 57,
     "metadata": {},
     "output_type": "execute_result"
    }
   ],
   "source": [
    "sum(df['GENUS'].value_counts())"
   ]
  },
  {
   "cell_type": "code",
   "execution_count": 110,
   "id": "6b97769b",
   "metadata": {},
   "outputs": [],
   "source": [
    "top_genera = dict(df['GENUS'].value_counts()[:10])"
   ]
  },
  {
   "cell_type": "code",
   "execution_count": 111,
   "id": "980a7332",
   "metadata": {},
   "outputs": [],
   "source": [
    "top_genera['OTHER'] = sum(df['GENUS'].value_counts()[10:])"
   ]
  },
  {
   "cell_type": "code",
   "execution_count": 55,
   "id": "64e789ba",
   "metadata": {},
   "outputs": [
    {
     "data": {
      "text/plain": [
       "{'PINUS': 2629,\n",
       " 'ACER': 2470,\n",
       " 'QUERCUS': 1513,\n",
       " 'MALUS': 1096,\n",
       " 'GLEDITSIA': 1046,\n",
       " 'PICEA': 912,\n",
       " 'ULMUS': 615,\n",
       " 'THUJA': 499,\n",
       " 'PLATANUS': 407,\n",
       " 'FRAXINUS': 367,\n",
       " 'OTHER': 5989}"
      ]
     },
     "execution_count": 55,
     "metadata": {},
     "output_type": "execute_result"
    }
   ],
   "source": [
    "top_genera"
   ]
  },
  {
   "cell_type": "code",
   "execution_count": 58,
   "id": "3b0b5163",
   "metadata": {},
   "outputs": [],
   "source": [
    "for item in top_genera.items():\n",
    "    top_genera[item[0]] = item[1]/17543\n",
    "    #print(item)"
   ]
  },
  {
   "cell_type": "code",
   "execution_count": 112,
   "id": "16761b63",
   "metadata": {},
   "outputs": [],
   "source": [
    "top_genera_x = list(top_genera.keys())\n",
    "top_genera_y = list(top_genera.keys())\n",
    "top_genera_y.reverse()"
   ]
  },
  {
   "cell_type": "code",
   "execution_count": 116,
   "id": "735a837c",
   "metadata": {},
   "outputs": [],
   "source": [
    "fake_confusion_data = pd.DataFrame(np.random.randint(0,1000, size=(11,11)), index = top_genera_y, columns=top_genera_x)"
   ]
  },
  {
   "cell_type": "code",
   "execution_count": 119,
   "id": "1a98adb6",
   "metadata": {},
   "outputs": [
    {
     "data": {
      "image/png": "[encoded data removed]",
      "text/plain": [
       "<Figure size 432x288 with 2 Axes>"
      ]
     },
     "metadata": {
      "needs_background": "light"
     },
     "output_type": "display_data"
    }
   ],
   "source": [
    "plt = sns.heatmap(fake_confusion_data, cmap='viridis')"
   ]
  }
 ],
 "metadata": {
  "kernelspec": {
   "display_name": "Python 3 (ipykernel)",
   "language": "python",
   "name": "python3"
  },
  "language_info": {
   "codemirror_mode": {
    "name": "ipython",
    "version": 3
   },
   "file_extension": ".py",
   "mimetype": "text/x-python",
   "name": "python",
   "nbconvert_exporter": "python",
   "pygments_lexer": "ipython3",
   "version": "3.8.10"
  }
 },
 "nbformat": 4,
 "nbformat_minor": 5
}
